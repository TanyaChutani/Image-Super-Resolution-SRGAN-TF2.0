{
  "nbformat": 4,
  "nbformat_minor": 0,
  "metadata": {
    "colab": {
      "name": "srgan_inference.ipynb",
      "provenance": [],
      "collapsed_sections": []
    },
    "kernelspec": {
      "name": "python3",
      "display_name": "Python 3"
    }
  },
  "cells": [
    {
      "cell_type": "code",
      "metadata": {
        "id": "1RopNDyCiwki"
      },
      "source": [
        "import tensorflow as tf\n",
        "import matplotlib.pyplot as plt\n",
        "from srgan.models.srgan import SRGAN\n",
        "from srgan.data.data_generator import test_data_generator"
      ],
      "execution_count": null,
      "outputs": []
    },
    {
      "cell_type": "code",
      "metadata": {
        "id": "LpAwnU4Yiwmp"
      },
      "source": [
        "validation_path = '/content/DIV2K_valid_HR/*.png'\n",
        "validation_dataset = test_data_generator(validation_path,test_batch_size=1)\n",
        "srgan = SRGAN()"
      ],
      "execution_count": null,
      "outputs": []
    },
    {
      "cell_type": "code",
      "metadata": {
        "id": "_QlgpFeQiwo7"
      },
      "source": [
        "def test_show_image(dataset,srgan,test_image_height=1300,test_image_width=2000):\n",
        "  for images in dataset.take(1):\n",
        "    for i in range(1):\n",
        "      hr_image = images[0][i]\n",
        "      lr_image = images[1][i]\n",
        "      fig, ax = plt.subplots(1, 2, figsize=(40,40))\n",
        "      ax[0].imshow(tf.cast(tf.image.resize(lr_image,\n",
        "                                           size=(test_image_height,\n",
        "                                                 test_image_width)),tf.uint8))\n",
        "      ax[0].set_title(\"LR Image\")\n",
        "      sr_image = srgan(tf.expand_dims(lr_image,0))\n",
        "      sr_image = tf.squeeze(sr_image)\n",
        "      ax[1].imshow(tf.cast((sr_image+1)*127.5,tf.uint8))\n",
        "      ax[1].set_title(\"SR Image\")  \n",
        "    plt.show()    \n",
        "\n",
        "test_show_image(validation_dataset, srgan)"
      ],
      "execution_count": null,
      "outputs": []
    }
  ]
}